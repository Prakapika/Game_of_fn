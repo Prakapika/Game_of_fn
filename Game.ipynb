{
 "cells": [
  {
   "cell_type": "code",
   "execution_count": 1,
   "id": "2f95be5a",
   "metadata": {},
   "outputs": [],
   "source": [
    "def summ(num):\n",
    "    total  = 0\n",
    "    for i in num:\n",
    "        total+=i\n",
    "    return total\n",
    "sum_of_num = summ([8,2,4,1,2])"
   ]
  },
  {
   "cell_type": "code",
   "execution_count": 2,
   "id": "d4a472a3",
   "metadata": {},
   "outputs": [
    {
     "data": {
      "text/plain": [
       "17"
      ]
     },
     "execution_count": 2,
     "metadata": {},
     "output_type": "execute_result"
    }
   ],
   "source": [
    "sum_of_num"
   ]
  },
  {
   "cell_type": "code",
   "execution_count": null,
   "id": "a8eb1a5c",
   "metadata": {},
   "outputs": [],
   "source": []
  }
 ],
 "metadata": {
  "kernelspec": {
   "display_name": "Python 3 (ipykernel)",
   "language": "python",
   "name": "python3"
  },
  "language_info": {
   "codemirror_mode": {
    "name": "ipython",
    "version": 3
   },
   "file_extension": ".py",
   "mimetype": "text/x-python",
   "name": "python",
   "nbconvert_exporter": "python",
   "pygments_lexer": "ipython3",
   "version": "3.10.6"
  }
 },
 "nbformat": 4,
 "nbformat_minor": 5
}
